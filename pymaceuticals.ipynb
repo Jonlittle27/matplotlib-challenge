{
 "cells": [
  {
   "cell_type": "markdown",
   "metadata": {},
   "source": [
    "# Observations \n",
    "\n",
    "1. The primary observation of the analysis shows that Capomulin and Ramicane are the best drug regimens of the ones selected.  This is due to their signifantly lower respective tumor volumes than the rest of the study and is confidently backed by the two drugs substantially leading in test counts.\n",
    "\n",
    "2. A secondary observation is that through the box plot it shows that both Capomulin and Ramicane have significantly lower tumor volume averages even when compared to the next two best treatment options.  Furthermore, their respective interquartile ranges are not high and shows that the average data would be expected in future patients.  Additionally, the outliers that were present actually benefit thier results because they showed below average results, which translates to drastic reductions in tumor volume.\n",
    "\n",
    "3. The third and final observation that was noted, deals with the relationship between tumor volume and mouse weight.  The scatter plot and linear regression analysis shows a positive correlation between the weight of the mice and their tumor volumes.  This observation is useful for narrowing the causation of larger tumor volumes.  Future research can attempt to uncover if this correlation is caused simply by a larger mouse having more surface area for the tumor to grow or if the drug regimens aren't productive enough to slow large scale growth.\n",
    "\n",
    "\n"
   ]
  },
  {
   "cell_type": "code",
   "execution_count": 1,
   "metadata": {},
   "outputs": [
    {
     "data": {
      "text/html": [
       "<div>\n",
       "<style scoped>\n",
       "    .dataframe tbody tr th:only-of-type {\n",
       "        vertical-align: middle;\n",
       "    }\n",
       "\n",
       "    .dataframe tbody tr th {\n",
       "        vertical-align: top;\n",
       "    }\n",
       "\n",
       "    .dataframe thead th {\n",
       "        text-align: right;\n",
       "    }\n",
       "</style>\n",
       "<table border=\"1\" class=\"dataframe\">\n",
       "  <thead>\n",
       "    <tr style=\"text-align: right;\">\n",
       "      <th></th>\n",
       "      <th>Mouse ID</th>\n",
       "      <th>Drug Regimen</th>\n",
       "      <th>Sex</th>\n",
       "      <th>Age_months</th>\n",
       "      <th>Weight (g)</th>\n",
       "      <th>Timepoint</th>\n",
       "      <th>Tumor Volume (mm3)</th>\n",
       "      <th>Metastatic Sites</th>\n",
       "    </tr>\n",
       "  </thead>\n",
       "  <tbody>\n",
       "    <tr>\n",
       "      <td>0</td>\n",
       "      <td>k403</td>\n",
       "      <td>Ramicane</td>\n",
       "      <td>Male</td>\n",
       "      <td>21</td>\n",
       "      <td>16</td>\n",
       "      <td>0</td>\n",
       "      <td>45.000000</td>\n",
       "      <td>0</td>\n",
       "    </tr>\n",
       "    <tr>\n",
       "      <td>1</td>\n",
       "      <td>k403</td>\n",
       "      <td>Ramicane</td>\n",
       "      <td>Male</td>\n",
       "      <td>21</td>\n",
       "      <td>16</td>\n",
       "      <td>5</td>\n",
       "      <td>38.825898</td>\n",
       "      <td>0</td>\n",
       "    </tr>\n",
       "    <tr>\n",
       "      <td>2</td>\n",
       "      <td>k403</td>\n",
       "      <td>Ramicane</td>\n",
       "      <td>Male</td>\n",
       "      <td>21</td>\n",
       "      <td>16</td>\n",
       "      <td>10</td>\n",
       "      <td>35.014271</td>\n",
       "      <td>1</td>\n",
       "    </tr>\n",
       "    <tr>\n",
       "      <td>3</td>\n",
       "      <td>k403</td>\n",
       "      <td>Ramicane</td>\n",
       "      <td>Male</td>\n",
       "      <td>21</td>\n",
       "      <td>16</td>\n",
       "      <td>15</td>\n",
       "      <td>34.223992</td>\n",
       "      <td>1</td>\n",
       "    </tr>\n",
       "    <tr>\n",
       "      <td>4</td>\n",
       "      <td>k403</td>\n",
       "      <td>Ramicane</td>\n",
       "      <td>Male</td>\n",
       "      <td>21</td>\n",
       "      <td>16</td>\n",
       "      <td>20</td>\n",
       "      <td>32.997729</td>\n",
       "      <td>1</td>\n",
       "    </tr>\n",
       "  </tbody>\n",
       "</table>\n",
       "</div>"
      ],
      "text/plain": [
       "  Mouse ID Drug Regimen   Sex  Age_months  Weight (g)  Timepoint  \\\n",
       "0     k403     Ramicane  Male          21          16          0   \n",
       "1     k403     Ramicane  Male          21          16          5   \n",
       "2     k403     Ramicane  Male          21          16         10   \n",
       "3     k403     Ramicane  Male          21          16         15   \n",
       "4     k403     Ramicane  Male          21          16         20   \n",
       "\n",
       "   Tumor Volume (mm3)  Metastatic Sites  \n",
       "0           45.000000                 0  \n",
       "1           38.825898                 0  \n",
       "2           35.014271                 1  \n",
       "3           34.223992                 1  \n",
       "4           32.997729                 1  "
      ]
     },
     "execution_count": 1,
     "metadata": {},
     "output_type": "execute_result"
    }
   ],
   "source": [
    "# dependencies and data\n",
    "import pandas as pd\n",
    "import matplotlib.pyplot as plt\n",
    "import scipy.stats as sem\n",
    "import numpy as np\n",
    "\n",
    "mice_data = \"resources/Mouse_metadata.csv\"\n",
    "study_results = \"resources/Study_results.csv\"\n",
    "\n",
    "mice_df = pd.read_csv(mice_data)\n",
    "study_df = pd.read_csv(study_results)\n",
    "\n",
    "#Merging to a single dataset on mouse ID\n",
    "mousestudy_df = pd.merge(mice_df,study_df, how = 'left', on = \"Mouse ID\")\n",
    "mousestudy_df.head()\n",
    "\n"
   ]
  },
  {
   "cell_type": "code",
   "execution_count": 2,
   "metadata": {},
   "outputs": [
    {
     "data": {
      "text/html": [
       "<div>\n",
       "<style scoped>\n",
       "    .dataframe tbody tr th:only-of-type {\n",
       "        vertical-align: middle;\n",
       "    }\n",
       "\n",
       "    .dataframe tbody tr th {\n",
       "        vertical-align: top;\n",
       "    }\n",
       "\n",
       "    .dataframe thead th {\n",
       "        text-align: right;\n",
       "    }\n",
       "</style>\n",
       "<table border=\"1\" class=\"dataframe\">\n",
       "  <thead>\n",
       "    <tr style=\"text-align: right;\">\n",
       "      <th></th>\n",
       "      <th>Average Tumor Volume (mm3)</th>\n",
       "      <th>Median Tumor Volume (mm3)</th>\n",
       "      <th>Tumor Volume (mm3) Variance</th>\n",
       "      <th>Tumor Volume (mm3) Standard Deviation</th>\n",
       "      <th>SEM Tumor Volume (mm3)</th>\n",
       "    </tr>\n",
       "    <tr>\n",
       "      <th>Drug Regimen</th>\n",
       "      <th></th>\n",
       "      <th></th>\n",
       "      <th></th>\n",
       "      <th></th>\n",
       "      <th></th>\n",
       "    </tr>\n",
       "  </thead>\n",
       "  <tbody>\n",
       "    <tr>\n",
       "      <td>Capomulin</td>\n",
       "      <td>40.675741</td>\n",
       "      <td>41.557809</td>\n",
       "      <td>24.839296</td>\n",
       "      <td>4.983904</td>\n",
       "      <td>0.329346</td>\n",
       "    </tr>\n",
       "    <tr>\n",
       "      <td>Ceftamin</td>\n",
       "      <td>52.591172</td>\n",
       "      <td>51.776157</td>\n",
       "      <td>39.069446</td>\n",
       "      <td>6.250556</td>\n",
       "      <td>0.469821</td>\n",
       "    </tr>\n",
       "    <tr>\n",
       "      <td>Infubinol</td>\n",
       "      <td>52.884795</td>\n",
       "      <td>51.820584</td>\n",
       "      <td>42.886388</td>\n",
       "      <td>6.548770</td>\n",
       "      <td>0.492236</td>\n",
       "    </tr>\n",
       "    <tr>\n",
       "      <td>Ketapril</td>\n",
       "      <td>55.235638</td>\n",
       "      <td>53.698743</td>\n",
       "      <td>68.188930</td>\n",
       "      <td>8.257659</td>\n",
       "      <td>0.603860</td>\n",
       "    </tr>\n",
       "    <tr>\n",
       "      <td>Naftisol</td>\n",
       "      <td>54.331565</td>\n",
       "      <td>52.509285</td>\n",
       "      <td>65.817708</td>\n",
       "      <td>8.112811</td>\n",
       "      <td>0.596466</td>\n",
       "    </tr>\n",
       "    <tr>\n",
       "      <td>Placebo</td>\n",
       "      <td>54.033581</td>\n",
       "      <td>52.288934</td>\n",
       "      <td>60.830138</td>\n",
       "      <td>7.799368</td>\n",
       "      <td>0.581331</td>\n",
       "    </tr>\n",
       "    <tr>\n",
       "      <td>Propriva</td>\n",
       "      <td>52.322552</td>\n",
       "      <td>50.854632</td>\n",
       "      <td>42.088020</td>\n",
       "      <td>6.487528</td>\n",
       "      <td>0.512884</td>\n",
       "    </tr>\n",
       "    <tr>\n",
       "      <td>Ramicane</td>\n",
       "      <td>40.216745</td>\n",
       "      <td>40.673236</td>\n",
       "      <td>23.383692</td>\n",
       "      <td>4.835669</td>\n",
       "      <td>0.320955</td>\n",
       "    </tr>\n",
       "    <tr>\n",
       "      <td>Stelasyn</td>\n",
       "      <td>54.233149</td>\n",
       "      <td>52.431737</td>\n",
       "      <td>59.122106</td>\n",
       "      <td>7.689090</td>\n",
       "      <td>0.573111</td>\n",
       "    </tr>\n",
       "    <tr>\n",
       "      <td>Zoniferol</td>\n",
       "      <td>53.236507</td>\n",
       "      <td>51.818479</td>\n",
       "      <td>48.266689</td>\n",
       "      <td>6.947423</td>\n",
       "      <td>0.516398</td>\n",
       "    </tr>\n",
       "  </tbody>\n",
       "</table>\n",
       "</div>"
      ],
      "text/plain": [
       "              Average Tumor Volume (mm3)  Median Tumor Volume (mm3)  \\\n",
       "Drug Regimen                                                          \n",
       "Capomulin                      40.675741                  41.557809   \n",
       "Ceftamin                       52.591172                  51.776157   \n",
       "Infubinol                      52.884795                  51.820584   \n",
       "Ketapril                       55.235638                  53.698743   \n",
       "Naftisol                       54.331565                  52.509285   \n",
       "Placebo                        54.033581                  52.288934   \n",
       "Propriva                       52.322552                  50.854632   \n",
       "Ramicane                       40.216745                  40.673236   \n",
       "Stelasyn                       54.233149                  52.431737   \n",
       "Zoniferol                      53.236507                  51.818479   \n",
       "\n",
       "              Tumor Volume (mm3) Variance  \\\n",
       "Drug Regimen                                \n",
       "Capomulin                       24.839296   \n",
       "Ceftamin                        39.069446   \n",
       "Infubinol                       42.886388   \n",
       "Ketapril                        68.188930   \n",
       "Naftisol                        65.817708   \n",
       "Placebo                         60.830138   \n",
       "Propriva                        42.088020   \n",
       "Ramicane                        23.383692   \n",
       "Stelasyn                        59.122106   \n",
       "Zoniferol                       48.266689   \n",
       "\n",
       "              Tumor Volume (mm3) Standard Deviation  SEM Tumor Volume (mm3)  \n",
       "Drug Regimen                                                                 \n",
       "Capomulin                                  4.983904                0.329346  \n",
       "Ceftamin                                   6.250556                0.469821  \n",
       "Infubinol                                  6.548770                0.492236  \n",
       "Ketapril                                   8.257659                0.603860  \n",
       "Naftisol                                   8.112811                0.596466  \n",
       "Placebo                                    7.799368                0.581331  \n",
       "Propriva                                   6.487528                0.512884  \n",
       "Ramicane                                   4.835669                0.320955  \n",
       "Stelasyn                                   7.689090                0.573111  \n",
       "Zoniferol                                  6.947423                0.516398  "
      ]
     },
     "execution_count": 2,
     "metadata": {},
     "output_type": "execute_result"
    }
   ],
   "source": [
    "#Summary Statistics Table of Tumor volume\n",
    "drug_reg = mousestudy_df.groupby(\"Drug Regimen\")\n",
    "avg_tumor = drug_reg[\"Tumor Volume (mm3)\"].mean()\n",
    "med_tumor = drug_reg[\"Tumor Volume (mm3)\"].median()\n",
    "var_tumor = drug_reg[\"Tumor Volume (mm3)\"].var(ddof=0)\n",
    "std_tumor = drug_reg[\"Tumor Volume (mm3)\"].std(ddof=0)\n",
    "sem_tumor = drug_reg[\"Tumor Volume (mm3)\"].sem()\n",
    "\n",
    "\n",
    "summary_stats_drugs = pd.DataFrame({\"Average Tumor Volume (mm3)\": avg_tumor,\n",
    "                                   \"Median Tumor Volume (mm3)\" :med_tumor,\n",
    "                                   \"Tumor Volume (mm3) Variance\":var_tumor,\n",
    "                                   \"Tumor Volume (mm3) Standard Deviation\":std_tumor,\n",
    "                                   \"SEM Tumor Volume (mm3)\": sem_tumor})\n",
    "summary_stats_drugs\n",
    "\n"
   ]
  },
  {
   "cell_type": "code",
   "execution_count": 3,
   "metadata": {},
   "outputs": [
    {
     "data": {
      "image/png": "[encoded data removed]",
      "text/plain": [
       "<Figure size 432x288 with 1 Axes>"
      ]
     },
     "metadata": {
      "needs_background": "light"
     },
     "output_type": "display_data"
    },
    {
     "data": {
      "text/plain": [
       "<Figure size 432x288 with 0 Axes>"
      ]
     },
     "metadata": {},
     "output_type": "display_data"
    }
   ],
   "source": [
    "#Creating a Bar Plot for Regimens Pandas\n",
    "# regimen_group = mousestudy_df.groupby(\"Drug Regimen\")\n",
    "# regimen_count = regimen_group[\"Drug Regimen\"].count()\n",
    "\n",
    "regimen_count = mousestudy_df[\"Drug Regimen\"].value_counts()\n",
    "\n",
    "\n",
    "bar_plot = regimen_count.plot(kind=\"bar\")\n",
    "bar_plot.set_title(\"Drug Regimen Counts\")\n",
    "bar_plot.set_ylabel(\"Regimen Counts\")\n",
    "bar_plot.set_xlabel(\"Regimen Names\")\n",
    "\n",
    "\n",
    "plt.show()\n",
    "plt.tight_layout()                             "
   ]
  },
  {
   "cell_type": "code",
   "execution_count": null,
   "metadata": {},
   "outputs": [],
   "source": []
  },
  {
   "cell_type": "code",
   "execution_count": 4,
   "metadata": {},
   "outputs": [
    {
     "data": {
      "image/png": "[encoded data removed]",
      "text/plain": [
       "<Figure size 432x288 with 1 Axes>"
      ]
     },
     "metadata": {
      "needs_background": "light"
     },
     "output_type": "display_data"
    },
    {
     "data": {
      "text/plain": [
       "<Figure size 432x288 with 0 Axes>"
      ]
     },
     "metadata": {},
     "output_type": "display_data"
    }
   ],
   "source": [
    "#Creating a Bar Plot with Matplot\n",
    "x_axis = np.arange(len(regimen_count))\n",
    "drug_names = [\"Capomulin\",\"Ramicane\",\"Ketapril\",\"Naftisol\",\"Zoniferol\",\"Placebo\",\"Stelasyn\",\"Ceftamin\",\"Infubinol\",\n",
    "              \"Propriva\"]\n",
    "# drug_names = regimen_count.keys()\n",
    "#Try using that for names later\n",
    "plt.bar(x_axis, regimen_count, alpha=0.5, align=\"center\")\n",
    "\n",
    "tick_locations = [value for value in x_axis]\n",
    "plt.xticks(tick_locations, drug_names, rotation=\"vertical\")\n",
    "plt.xlabel(\"Regimen Names\")\n",
    "plt.ylabel(\"Regimen Counts\")\n",
    "plt.title(\"Drug Regimen Counts\")\n",
    "\n",
    "\n",
    "plt.show()\n",
    "plt.tight_layout()"
   ]
  },
  {
   "cell_type": "code",
   "execution_count": 5,
   "metadata": {},
   "outputs": [],
   "source": [
    "#Female Versus Male Distribution data setup\n",
    "sex_count = mousestudy_df[\"Sex\"].value_counts()\n",
    "\n",
    "labels = [\"Male\",\"Female\"]\n",
    "colors = [\"lightskyblue\",\"pink\"]"
   ]
  },
  {
   "cell_type": "code",
   "execution_count": 6,
   "metadata": {},
   "outputs": [
    {
     "data": {
      "image/png": "[encoded data removed]",
      "text/plain": [
       "<Figure size 432x288 with 1 Axes>"
      ]
     },
     "metadata": {},
     "output_type": "display_data"
    },
    {
     "data": {
      "text/plain": [
       "<Figure size 432x288 with 0 Axes>"
      ]
     },
     "metadata": {},
     "output_type": "display_data"
    }
   ],
   "source": [
    "#Matplot Pie Chart\n",
    "plt.pie(sex_count, labels=labels, colors=colors,\n",
    "        autopct=\"%1.2f%%\",startangle=140)\n",
    "plt.axis(\"equal\")\n",
    "plt.title(\"Distribution of Mice by Sex\")\n",
    "plt.ylabel(\"Sex\")\n",
    "plt.show()\n",
    "plt.tight_layout()"
   ]
  },
  {
   "cell_type": "code",
   "execution_count": 7,
   "metadata": {},
   "outputs": [
    {
     "data": {
      "image/png": "[encoded data removed]",
      "text/plain": [
       "<Figure size 432x288 with 1 Axes>"
      ]
     },
     "metadata": {},
     "output_type": "display_data"
    },
    {
     "data": {
      "text/plain": [
       "<Figure size 432x288 with 0 Axes>"
      ]
     },
     "metadata": {},
     "output_type": "display_data"
    }
   ],
   "source": [
    "# Pandas Pie Chart\n",
    "sex_count.plot(kind=\"pie\",y=labels,colors=colors,title=\"Distribution of Mice by Sex\",autopct=\"%1.2f%%\",startangle=140)\n",
    "\n",
    "\n",
    "plt.axis(\"equal\")\n",
    "plt.show()\n",
    "plt.tight_layout()"
   ]
  },
  {
   "cell_type": "code",
   "execution_count": 8,
   "metadata": {},
   "outputs": [],
   "source": [
    "#Quartiles, Outliers, and Boxplot Set up\n",
    "regimen_index = mousestudy_df.set_index(\"Drug Regimen\")\n",
    "capomulin = regimen_index.loc[\"Capomulin\",\"Tumor Volume (mm3)\"]\n",
    "ramicane = regimen_index.loc[\"Ramicane\",\"Tumor Volume (mm3)\"]\n",
    "infubinol = regimen_index.loc[\"Infubinol\",\"Tumor Volume (mm3)\"]\n",
    "ceftamin = regimen_index.loc[\"Ceftamin\",\"Tumor Volume (mm3)\"]\n",
    "var = [capomulin,ramicane,infubinol,ceftamin]\n",
    "names = [\"capomulin\",\"ramicane\",\"infubinol\",\"ceftamin\"]\n",
    "top4 = regimen_index.loc[[\"Capomulin\",\"Ramicane\",\"Infubinol\",\"Ceftamin\"],[\"Tumor Volume (mm3)\",\"Timepoint\"]]\n",
    "final_top4 = top4.loc[top4[\"Timepoint\"] == 45,:]\n"
   ]
  },
  {
   "cell_type": "code",
   "execution_count": 9,
   "metadata": {},
   "outputs": [
    {
     "name": "stdout",
     "output_type": "stream",
     "text": [
      "The lower quartile of Tumor Volume (mm3) is: 40.2201707875\n",
      "The upper quartile of Tumor Volume (mm3) is: 50.356470630000004\n",
      "The interquartile range of Tumor Volume (mm3) is: 10.136299842500001\n",
      "The the median of Tumor Volume (mm3) is: 45.0 \n",
      "Values below 25.01572102375 could be outliers.\n",
      "Values above 65.56092039375001 could be outliers.\n"
     ]
    },
    {
     "data": {
      "text/html": [
       "<div>\n",
       "<style scoped>\n",
       "    .dataframe tbody tr th:only-of-type {\n",
       "        vertical-align: middle;\n",
       "    }\n",
       "\n",
       "    .dataframe tbody tr th {\n",
       "        vertical-align: top;\n",
       "    }\n",
       "\n",
       "    .dataframe thead th {\n",
       "        text-align: right;\n",
       "    }\n",
       "</style>\n",
       "<table border=\"1\" class=\"dataframe\">\n",
       "  <thead>\n",
       "    <tr style=\"text-align: right;\">\n",
       "      <th></th>\n",
       "      <th>Tumor Volume (mm3)</th>\n",
       "      <th>Timepoint</th>\n",
       "    </tr>\n",
       "    <tr>\n",
       "      <th>Drug Regimen</th>\n",
       "      <th></th>\n",
       "      <th></th>\n",
       "    </tr>\n",
       "  </thead>\n",
       "  <tbody>\n",
       "    <tr>\n",
       "      <td>Capomulin</td>\n",
       "      <td>23.343598</td>\n",
       "      <td>45</td>\n",
       "    </tr>\n",
       "    <tr>\n",
       "      <td>Ramicane</td>\n",
       "      <td>24.365505</td>\n",
       "      <td>40</td>\n",
       "    </tr>\n",
       "    <tr>\n",
       "      <td>Ramicane</td>\n",
       "      <td>22.050126</td>\n",
       "      <td>45</td>\n",
       "    </tr>\n",
       "    <tr>\n",
       "      <td>Infubinol</td>\n",
       "      <td>67.973419</td>\n",
       "      <td>45</td>\n",
       "    </tr>\n",
       "    <tr>\n",
       "      <td>Infubinol</td>\n",
       "      <td>66.083066</td>\n",
       "      <td>45</td>\n",
       "    </tr>\n",
       "    <tr>\n",
       "      <td>Infubinol</td>\n",
       "      <td>67.821420</td>\n",
       "      <td>35</td>\n",
       "    </tr>\n",
       "    <tr>\n",
       "      <td>Infubinol</td>\n",
       "      <td>69.428141</td>\n",
       "      <td>40</td>\n",
       "    </tr>\n",
       "    <tr>\n",
       "      <td>Infubinol</td>\n",
       "      <td>72.226731</td>\n",
       "      <td>45</td>\n",
       "    </tr>\n",
       "    <tr>\n",
       "      <td>Infubinol</td>\n",
       "      <td>67.289621</td>\n",
       "      <td>40</td>\n",
       "    </tr>\n",
       "    <tr>\n",
       "      <td>Infubinol</td>\n",
       "      <td>66.196912</td>\n",
       "      <td>45</td>\n",
       "    </tr>\n",
       "    <tr>\n",
       "      <td>Infubinol</td>\n",
       "      <td>67.685569</td>\n",
       "      <td>45</td>\n",
       "    </tr>\n",
       "    <tr>\n",
       "      <td>Ceftamin</td>\n",
       "      <td>66.622836</td>\n",
       "      <td>40</td>\n",
       "    </tr>\n",
       "    <tr>\n",
       "      <td>Ceftamin</td>\n",
       "      <td>68.923185</td>\n",
       "      <td>45</td>\n",
       "    </tr>\n",
       "    <tr>\n",
       "      <td>Ceftamin</td>\n",
       "      <td>67.748662</td>\n",
       "      <td>45</td>\n",
       "    </tr>\n",
       "    <tr>\n",
       "      <td>Ceftamin</td>\n",
       "      <td>67.527482</td>\n",
       "      <td>45</td>\n",
       "    </tr>\n",
       "    <tr>\n",
       "      <td>Ceftamin</td>\n",
       "      <td>68.594745</td>\n",
       "      <td>45</td>\n",
       "    </tr>\n",
       "  </tbody>\n",
       "</table>\n",
       "</div>"
      ],
      "text/plain": [
       "              Tumor Volume (mm3)  Timepoint\n",
       "Drug Regimen                               \n",
       "Capomulin              23.343598         45\n",
       "Ramicane               24.365505         40\n",
       "Ramicane               22.050126         45\n",
       "Infubinol              67.973419         45\n",
       "Infubinol              66.083066         45\n",
       "Infubinol              67.821420         35\n",
       "Infubinol              69.428141         40\n",
       "Infubinol              72.226731         45\n",
       "Infubinol              67.289621         40\n",
       "Infubinol              66.196912         45\n",
       "Infubinol              67.685569         45\n",
       "Ceftamin               66.622836         40\n",
       "Ceftamin               68.923185         45\n",
       "Ceftamin               67.748662         45\n",
       "Ceftamin               67.527482         45\n",
       "Ceftamin               68.594745         45"
      ]
     },
     "execution_count": 9,
     "metadata": {},
     "output_type": "execute_result"
    }
   ],
   "source": [
    "#Finding Quartiles, IQR, and any potential outliers in Final Tumor Volume of the Top 4 Treatments\n",
    "quartiles = top4['Tumor Volume (mm3)'].quantile([.25,.5,.75])\n",
    "lowerq = quartiles[0.25]\n",
    "upperq = quartiles[0.75]\n",
    "iqr = upperq-lowerq\n",
    "#Findings\n",
    "print(f\"The lower quartile of Tumor Volume (mm3) is: {lowerq}\")\n",
    "print(f\"The upper quartile of Tumor Volume (mm3) is: {upperq}\")\n",
    "print(f\"The interquartile range of Tumor Volume (mm3) is: {iqr}\")\n",
    "print(f\"The the median of Tumor Volume (mm3) is: {quartiles[0.5]} \")\n",
    "#Bounds\n",
    "lower_bound = lowerq - (1.5*iqr)\n",
    "upper_bound = upperq + (1.5*iqr)\n",
    "print(f\"Values below {lower_bound} could be outliers.\")\n",
    "print(f\"Values above {upper_bound} could be outliers.\")\n",
    "#Potential Outliers\n",
    "outlier_tumor = top4.loc[(top4['Tumor Volume (mm3)'] < lower_bound) | (top4['Tumor Volume (mm3)'] > upper_bound)]\n",
    "outlier_tumor"
   ]
  },
  {
   "cell_type": "code",
   "execution_count": 10,
   "metadata": {},
   "outputs": [
    {
     "data": {
      "image/png": "[encoded data removed]",
      "text/plain": [
       "<Figure size 432x288 with 1 Axes>"
      ]
     },
     "metadata": {
      "needs_background": "light"
     },
     "output_type": "display_data"
    }
   ],
   "source": [
    "#box plot \n",
    "fig1, ax1 = plt.subplots()\n",
    "ax1.set_title('Top 4 Drug Regimens')\n",
    "ax1.set_ylabel('Tumor Volume (mm3)')\n",
    "ax1.boxplot(var)\n",
    "x_axis = (np.arange(len(var)))+1\n",
    "tick_locations = [value for value in x_axis]\n",
    "plt.xticks(tick_locations, names , rotation=\"horizontal\")\n",
    "plt.show()"
   ]
  },
  {
   "cell_type": "code",
   "execution_count": 11,
   "metadata": {},
   "outputs": [
    {
     "data": {
      "image/png": "[encoded data removed]",
      "text/plain": [
       "<Figure size 432x288 with 1 Axes>"
      ]
     },
     "metadata": {
      "needs_background": "light"
     },
     "output_type": "display_data"
    },
    {
     "data": {
      "text/plain": [
       "<Figure size 432x288 with 0 Axes>"
      ]
     },
     "metadata": {},
     "output_type": "display_data"
    }
   ],
   "source": [
    "# Generate a line plot of time point versus tumor volume for a mouse treated with Capomulin\n",
    "\n",
    "#Capomulin avg tumor over time\n",
    "cap_tumor_time = regimen_index.loc[[\"Capomulin\"],[\"Tumor Volume (mm3)\",\"Timepoint\"]]\n",
    "grouped_ctt = cap_tumor_time.groupby(\"Timepoint\")\n",
    "cap_avg = grouped_ctt[\"Tumor Volume (mm3)\"].mean()\n",
    "#AVG tumor for the study at each timepoint\n",
    "grouped_time = mousestudy_df.groupby(\"Timepoint\")\n",
    "avg_tumor = grouped_time[\"Tumor Volume (mm3)\"].mean()\n",
    "#Time points\n",
    "time = mousestudy_df[\"Timepoint\"].unique()\n",
    "\n",
    "#study average plot\n",
    "study_avg, = plt.plot(time,avg_tumor, color = 'b', label = \"Study Average\")\n",
    "#Cap Average plot\n",
    "ctt_avg, = plt.plot(time,cap_avg,color = 'g', label = \"Capomulin Average\")\n",
    "\n",
    "#Aes \n",
    "plt.legend(handles=[study_avg,ctt_avg], loc=\"best\")\n",
    "plt.ylabel(\"Average Tumor Volume (mm3)\")\n",
    "plt.xlabel(\"Timepoint\")\n",
    "plt.title(\"Average Tumor Volume\\nStudy v. Capomulin\")\n",
    "plt.xlim(0,45)\n",
    "plt.grid()\n",
    "\n",
    "plt.show()\n",
    "plt.tight_layout()\n",
    "\n",
    "\n",
    "\n",
    "\n"
   ]
  },
  {
   "cell_type": "code",
   "execution_count": 14,
   "metadata": {},
   "outputs": [
    {
     "data": {
      "image/png": "[encoded data removed]",
      "text/plain": [
       "<Figure size 432x288 with 1 Axes>"
      ]
     },
     "metadata": {
      "needs_background": "light"
     },
     "output_type": "display_data"
    },
    {
     "data": {
      "text/plain": [
       "<Figure size 432x288 with 0 Axes>"
      ]
     },
     "metadata": {},
     "output_type": "display_data"
    }
   ],
   "source": [
    "# Generate a scatter plot of mouse weight versus average tumor volume for the Capomulin regimen\n",
    "cap_tumor_weight = regimen_index.loc[[\"Capomulin\"],[\"Weight (g)\",\"Tumor Volume (mm3)\"]]\n",
    "grouped_ctw = cap_tumor_weight.groupby(\"Weight (g)\")\n",
    "\n",
    "\n",
    "x_values = cap_tumor_weight[\"Weight (g)\"].unique()\n",
    "y_values = grouped_ctw[\"Tumor Volume (mm3)\"].mean()\n",
    "plt.scatter(x_values,y_values)\n",
    "plt.xlabel('Mouse Weight')\n",
    "plt.ylabel('Average Tumor Volume')\n",
    "plt.title(\"Capomulin Regimen\")\n",
    "plt.ylim(36,46)\n",
    "plt.grid()\n",
    "\n",
    "plt.show()\n",
    "plt.tight_layout()"
   ]
  },
  {
   "cell_type": "code",
   "execution_count": 15,
   "metadata": {},
   "outputs": [
    {
     "data": {
      "image/png": "[encoded data removed]",
      "text/plain": [
       "<Figure size 432x288 with 1 Axes>"
      ]
     },
     "metadata": {
      "needs_background": "light"
     },
     "output_type": "display_data"
    },
    {
     "data": {
      "text/plain": [
       "<Figure size 432x288 with 0 Axes>"
      ]
     },
     "metadata": {},
     "output_type": "display_data"
    }
   ],
   "source": [
    "# Calculate the correlation coefficient and linear regression model for mouse weight and average tumor volume for the Capomulin regimen\n",
    "\n",
    "x_values = cap_tumor_weight[\"Weight (g)\"].unique()\n",
    "y_values = grouped_ctw[\"Tumor Volume (mm3)\"].mean()\n",
    "(slope, intercept, rvalue, pvalue, stderr) = sem.linregress(x_values, y_values)\n",
    "regress_values = x_values * slope + intercept\n",
    "line_eq = \"y = \" + str(round(slope,2)) + \"x + \" + str(round(intercept,2))\n",
    "plt.scatter(x_values,y_values)\n",
    "plt.plot(x_values,regress_values,\"r-\")\n",
    "plt.annotate(line_eq,(20,40),fontsize=15,color=\"red\")\n",
    "plt.xlabel('Mouse Weight')\n",
    "plt.ylabel('Average Tumor Volume')\n",
    "plt.title(\"Capomulin Regimen\")\n",
    "plt.ylim(36,46)\n",
    "plt.grid()\n",
    "\n",
    "\n",
    "plt.show()\n",
    "plt.tight_layout()"
   ]
  }
 ],
 "metadata": {
  "kernelspec": {
   "display_name": "Python 3",
   "language": "python",
   "name": "python3"
  },
  "language_info": {
   "codemirror_mode": {
    "name": "ipython",
    "version": 3
   },
   "file_extension": ".py",
   "mimetype": "text/x-python",
   "name": "python",
   "nbconvert_exporter": "python",
   "pygments_lexer": "ipython3",
   "version": "3.7.4"
  }
 },
 "nbformat": 4,
 "nbformat_minor": 2
}
